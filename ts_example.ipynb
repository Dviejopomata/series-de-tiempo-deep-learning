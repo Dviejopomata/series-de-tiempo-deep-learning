{
  "cells": [
    {
      "cell_type": "code",
      "execution_count": 25,
      "metadata": {
        "collapsed": true,
        "pycharm": {
          "is_executing": false
        }
      },
      "outputs": [],
      "source": "from numpy import array\nfrom keras.models import Sequential\nfrom keras.layers import Dense, Conv1D, MaxPooling1D, Flatten, LSTM, TimeDistributed, RepeatVector"
    },
    {
      "cell_type": "code",
      "execution_count": 20,
      "outputs": [],
      "source": "",
      "metadata": {
        "pycharm": {
          "metadata": false,
          "name": "#%%\n",
          "is_executing": false
        }
      }
    },
    {
      "cell_type": "code",
      "execution_count": 3,
      "outputs": [
        {
          "name": "stdout",
          "text": [
            "WARNING:tensorflow:From /disco-grande/projects/elecciones_2019/venv/lib/python3.6/site-packages/tensorflow/python/framework/op_def_library.py:263: colocate_with (from tensorflow.python.framework.ops) is deprecated and will be removed in a future version.\nInstructions for updating:\nColocations handled automatically by placer.\n",
            "WARNING:tensorflow:From /disco-grande/projects/elecciones_2019/venv/lib/python3.6/site-packages/tensorflow/python/ops/math_ops.py:3066: to_int32 (from tensorflow.python.ops.math_ops) is deprecated and will be removed in a future version.\nInstructions for updating:\nUse tf.cast instead.\n",
            "[[80.8504]]\n"
          ],
          "output_type": "stream"
        }
      ],
      "source": "X \u003d array([[10, 20, 30], [20, 30, 40], [30, 40, 50], [40, 50, 60]])\ny \u003d array([40, 50, 60, 70])\n# univariate mlp example\nmodel \u003d Sequential()\nmodel.add(Dense(100, activation\u003d\u0027relu\u0027, input_dim\u003d3))\nmodel.add(Dense(1))\nmodel.compile(optimizer\u003d\u0027adam\u0027, loss\u003d\u0027mse\u0027)\n# fit model\nmodel.fit(X, y, epochs\u003d2000, verbose\u003d0)\n# demonstrate prediction\nx_input \u003d array([50, 60, 70])\nx_input \u003d x_input.reshape((1, 3))\nyhat \u003d model.predict(x_input, verbose\u003d0)\nprint(yhat)\n",
      "metadata": {
        "pycharm": {
          "metadata": false,
          "name": "#%%\n",
          "is_executing": false
        }
      }
    },
    {
      "cell_type": "code",
      "execution_count": 14,
      "outputs": [
        {
          "name": "stdout",
          "text": [
            "[[82.97828]]\n"
          ],
          "output_type": "stream"
        }
      ],
      "source": "# CNN\nX \u003d array([[10, 20, 30], [20, 30, 40], [30, 40, 50], [40, 50, 60]])\ny \u003d array([40, 50, 60, 70])\nX \u003d X.reshape((X.shape[0], X.shape[1], 1))\n# define model\nmodel \u003d Sequential()\nmodel.add(Conv1D(filters\u003d64, kernel_size\u003d2, activation\u003d\u0027relu\u0027, input_shape\u003d(3, 1)))\nmodel.add(MaxPooling1D(pool_size\u003d2))\nmodel.add(Flatten())\nmodel.add(Dense(50, activation\u003d\u0027relu\u0027))\nmodel.add(Dense(1))\nmodel.compile(optimizer\u003d\u0027adam\u0027, loss\u003d\u0027mse\u0027)\n# fit model\nmodel.fit(X, y, epochs\u003d1000, verbose\u003d0)\n# demonstrate prediction\nx_input \u003d array([50, 60, 70])\nx_input \u003d x_input.reshape((1, 3, 1))\nyhat \u003d model.predict(x_input, verbose\u003d0)\nprint(yhat)",
      "metadata": {
        "pycharm": {
          "metadata": false,
          "name": "#%%\n",
          "is_executing": false
        }
      }
    },
    {
      "cell_type": "code",
      "execution_count": 16,
      "outputs": [
        {
          "name": "stdout",
          "text": [
            "[[83.84761]]\n"
          ],
          "output_type": "stream"
        }
      ],
      "source": "# LSTM\nX \u003d array([[10, 20, 30], [20, 30, 40], [30, 40, 50], [40, 50, 60]])\ny \u003d array([40, 50, 60, 70])\n# reshape from [samples, timesteps] into [samples, timesteps, features]\nX \u003d X.reshape((X.shape[0], X.shape[1], 1))\n# define model\nmodel \u003d Sequential()\nmodel.add(LSTM(50, activation\u003d\u0027relu\u0027, input_shape\u003d(3, 1)))\nmodel.add(Dense(1))\nmodel.compile(optimizer\u003d\u0027adam\u0027, loss\u003d\u0027mse\u0027)\n# fit model\nmodel.fit(X, y, epochs\u003d1000, verbose\u003d0)\n# demonstrate prediction\nx_input \u003d array([50, 60, 70])\nx_input \u003d x_input.reshape((1, 3, 1))\nyhat \u003d model.predict(x_input, verbose\u003d0)\nprint(yhat)\n\n",
      "metadata": {
        "pycharm": {
          "metadata": false,
          "name": "#%%\n",
          "is_executing": false
        }
      }
    },
    {
      "cell_type": "code",
      "execution_count": 23,
      "outputs": [
        {
          "name": "stdout",
          "text": [
            "[[99.315216]]\n"
          ],
          "output_type": "stream"
        }
      ],
      "source": "\nX \u003d array([[10, 20, 30, 40], [20, 30, 40, 50], [30, 40, 50, 60], [40, 50, 60, 70]])\ny \u003d array([50, 60, 70, 80])\n\n# CNN - LSTM \n# reshape from [samples, timesteps] into [samples, subsequences, timesteps, features]\nX_reshaped \u003d X.reshape((X.shape[0], 2, 2, 1))\n# define model\nmodel \u003d Sequential()\nmodel.add(TimeDistributed(Conv1D(filters\u003d64, kernel_size\u003d1, activation\u003d\u0027relu\u0027),\ninput_shape\u003d(None, 2, 1)))\nmodel.add(TimeDistributed(MaxPooling1D(pool_size\u003d2)))\nmodel.add(TimeDistributed(Flatten()))\nmodel.add(LSTM(50, activation\u003d\u0027relu\u0027))\nmodel.add(Dense(1))\nmodel.compile(optimizer\u003d\u0027adam\u0027, loss\u003d\u0027mse\u0027)\n# fit model\nmodel.fit(X_reshaped, y, epochs\u003d500, verbose\u003d0)\n# demonstrate prediction\nx_input \u003d array([50, 60, 70, 80])\nx_input \u003d x_input.reshape((1, 2, 2, 1))\nyhat \u003d model.predict(x_input, verbose\u003d0)\nprint(yhat)\n",
      "metadata": {
        "pycharm": {
          "metadata": false,
          "name": "#%%\n",
          "is_executing": false
        }
      }
    },
    {
      "cell_type": "code",
      "execution_count": 26,
      "outputs": [
        {
          "name": "stdout",
          "text": [
            "[[[82.373535]\n  [97.0677  ]]]\n"
          ],
          "output_type": "stream"
        }
      ],
      "source": "\nX \u003d array([[10, 20, 30], [20, 30, 40], [30, 40, 50], [40, 50, 60]])\ny \u003d array([[40,50],[50,60],[60,70],[70,80]])\n# reshape from [samples, timesteps] into [samples, timesteps, features]\nX \u003d X.reshape((X.shape[0], X.shape[1], 1))\ny \u003d y.reshape((y.shape[0], y.shape[1], 1))\n# define model\nmodel \u003d Sequential()\nmodel.add(LSTM(100, activation\u003d\u0027relu\u0027, input_shape\u003d(3, 1)))\nmodel.add(RepeatVector(2))\nmodel.add(LSTM(100, activation\u003d\u0027relu\u0027, return_sequences\u003dTrue))\nmodel.add(TimeDistributed(Dense(1)))\nmodel.compile(optimizer\u003d\u0027adam\u0027, loss\u003d\u0027mse\u0027)\n# fit model\nmodel.fit(X, y, epochs\u003d100, verbose\u003d0)\n# demonstrate prediction\nx_input \u003d array([50, 60, 70])\nx_input \u003d x_input.reshape((1, 3, 1))\nyhat \u003d model.predict(x_input, verbose\u003d0)\nprint(yhat)\n",
      "metadata": {
        "pycharm": {
          "metadata": false,
          "name": "#%%\n",
          "is_executing": false
        }
      }
    },
    {
      "cell_type": "code",
      "execution_count": null,
      "outputs": [],
      "source": "\n",
      "metadata": {
        "pycharm": {
          "metadata": false,
          "name": "#%%\n"
        }
      }
    }
  ],
  "metadata": {
    "language_info": {
      "codemirror_mode": {
        "name": "ipython",
        "version": 2
      },
      "file_extension": ".py",
      "mimetype": "text/x-python",
      "name": "python",
      "nbconvert_exporter": "python",
      "pygments_lexer": "ipython2",
      "version": "2.7.6"
    },
    "kernelspec": {
      "name": "python3",
      "language": "python",
      "display_name": "Python 3"
    }
  },
  "nbformat": 4,
  "nbformat_minor": 0
}